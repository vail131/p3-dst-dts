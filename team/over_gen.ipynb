{
 "cells": [
  {
   "cell_type": "code",
   "execution_count": 1,
   "id": "cf5997d4-f8c4-494f-a063-867daf6076a4",
   "metadata": {},
   "outputs": [
    {
     "name": "stdout",
     "output_type": "stream",
     "text": [
      "/opt/ml/project/team/code\n"
     ]
    }
   ],
   "source": [
    "%cd /opt/ml/project/team/code"
   ]
  },
  {
   "cell_type": "code",
   "execution_count": 59,
   "id": "a454ed7c-b5b3-4936-877d-41bf3b3da5fc",
   "metadata": {},
   "outputs": [],
   "source": [
    "import torch\n",
    "import json\n",
    "import argparse\n",
    "import os\n",
    "import json\n",
    "from attrdict import AttrDict\n",
    "import sys\n",
    "from torch.functional import split\n",
    "import yaml\n",
    "import torch\n",
    "from torch.utils.data import DataLoader, SequentialSampler\n",
    "from torch.cuda.amp import autocast\n",
    "from tqdm.auto import tqdm\n",
    "import copy\n",
    "from data_utils import WOSDataset\n",
    "from prepare import get_data, get_stuff, get_model\n",
    "import parser_maker\n",
    "from data_utils import split_slot, convert_state_dict\n",
    "\n",
    "from training_recorder import RunningLossRecorder"
   ]
  },
  {
   "cell_type": "code",
   "execution_count": 3,
   "id": "89367bb5-cddc-4c62-8e2c-9f726fdf47ec",
   "metadata": {},
   "outputs": [
    {
     "name": "stdout",
     "output_type": "stream",
     "text": [
      "/opt/ml/project/team/code\n"
     ]
    }
   ],
   "source": [
    "!pwd"
   ]
  },
  {
   "cell_type": "code",
   "execution_count": 4,
   "id": "4d405896-2c94-4730-85b4-c5fb73b92ab4",
   "metadata": {},
   "outputs": [
    {
     "name": "stdout",
     "output_type": "stream",
     "text": [
      "using train: train_dials.json\n"
     ]
    },
    {
     "data": {
      "application/vnd.jupyter.widget-view+json": {
       "model_id": "a3384b1f62a64d43bf2041bbb50b4d0d",
       "version_major": 2,
       "version_minor": 0
      },
      "text/plain": [
       "HBox(children=(FloatProgress(value=1.0, bar_style='info', description='Making TRADE model -- waiting...', max=…"
      ]
     },
     "metadata": {},
     "output_type": "display_data"
    },
    {
     "name": "stdout",
     "output_type": "stream",
     "text": [
      "\n",
      "done\n"
     ]
    }
   ],
   "source": [
    "device = torch.device(\"cuda\" if torch.cuda.is_available() else \"cpu\")\n",
    "\n",
    "# conf=dict()\n",
    "# with open(config_root) as f:\n",
    "#     conf = yaml.load(f, Loader=yaml.FullLoader)\n",
    "\n",
    "task_dir = '/opt/ml/project/team/code/results/random_1125_1'\n",
    "# eval_data = json.load(open(f\"/opt/ml/input/data/eval_dataset/eval_dials.json\", \"r\"))\n",
    "\n",
    "config = json.load(open(f\"{task_dir}/exp_config.json\", \"r\"))\n",
    "\n",
    "# print(config)\n",
    "config = argparse.Namespace(**config)\n",
    "_, slot_meta, ontology = get_data(config)\n",
    "\n",
    "config.device = device\n",
    "\n",
    "config.use_cache_examples2features = False\n",
    "tokenizer, processor, _, _ = get_stuff(config,\n",
    "             None, None, slot_meta, ontology)\n",
    "\n",
    "# eval_data = WOSDataset(eval_features)\n",
    "# eval_sampler = SequentialSampler(eval_data)\n",
    "# eval_loader = DataLoader(\n",
    "#     eval_data,\n",
    "#     batch_size=8,\n",
    "#     sampler=eval_sampler,\n",
    "#     collate_fn=processor.collate_fn,\n",
    "# )\n",
    "# print(\"# eval:\", len(eval_data))\n",
    "\n",
    "# print(slot_meta)\n",
    "\n",
    "model =  get_model(config, tokenizer, ontology, slot_meta)\n",
    "\n",
    "\n",
    "ckpt = torch.load(f\"{task_dir}/model-best.bin\", map_location=\"cpu\")\n",
    "# ckpt = torch.load(\"/opt/ml/gyujins_file/model-best.bin\", map_location=\"cpu\")\n",
    "\n",
    "model.load_state_dict(ckpt)\n",
    "model.to(device)\n",
    "print('done')"
   ]
  },
  {
   "cell_type": "code",
   "execution_count": 5,
   "id": "e56380bc-c650-488e-9db0-06c9814d9fae",
   "metadata": {},
   "outputs": [],
   "source": [
    "import pickle\n",
    "\n",
    "file_name = '/opt/ml/input/data/tmp/good_ones_size_1248_0.pkl'\n",
    "data = pickle.load(open(file_name, 'rb'))"
   ]
  },
  {
   "cell_type": "code",
   "execution_count": 6,
   "id": "129ec0ef-02da-479d-b1fc-4dfa53b45ef8",
   "metadata": {},
   "outputs": [],
   "source": [
    "from data_utils import DSTInputExample\n",
    "from inference import postprocess_state"
   ]
  },
  {
   "cell_type": "code",
   "execution_count": 7,
   "id": "eb770e3d-2537-4ad2-bb1c-2efc72ca4280",
   "metadata": {},
   "outputs": [
    {
     "data": {
      "text/plain": [
       "AttrDict({'sys': '출발 시간과 도착 시간을 알 수 있을까요?', 'usr': '오동통규동동에서 출발해서 오동통규동동에 2시 22분에 도착해야해요.', 'mod_labels': ['택시-도착 시간-02:22', '택시-출발지-오동통규동동'], 'ori_usr': '친구가 노원역에 22시10분까지 오라고 했는데 거기에 출발 시간을 맞춰주심 될 꺼 같아요.', 'ori_labels': ['택시-도착 시간-22:10', '택시-출발 시간-dontcare']})"
      ]
     },
     "execution_count": 7,
     "metadata": {},
     "output_type": "execute_result"
    }
   ],
   "source": [
    "datum = data[0]\n",
    "datum"
   ]
  },
  {
   "cell_type": "code",
   "execution_count": 12,
   "id": "ddba9183-2ad1-44e4-bba7-2c87984bba3b",
   "metadata": {},
   "outputs": [],
   "source": [
    "examples = []\n",
    "for idx, datum in enumerate(data):\n",
    "    examples.append(\n",
    "            DSTInputExample(\n",
    "                guid=f\"need_guid_{idx}\",\n",
    "                context_turns=[\"\", \"\"],\n",
    "                current_turn=[datum.sys, datum.usr],  # TRADE,SUMBT 다름 유의\n",
    "                label=datum.mod_labels, \n",
    "                before_label={}, # This was for som_dst\n",
    "            )\n",
    "    )"
   ]
  },
  {
   "cell_type": "code",
   "execution_count": 13,
   "id": "73d99af5-8975-4870-aae7-e30920d138cb",
   "metadata": {},
   "outputs": [
    {
     "data": {
      "application/vnd.jupyter.widget-view+json": {
       "model_id": "d6ac2d610b5a401eae13bc9da9e8e676",
       "version_major": 2,
       "version_minor": 0
      },
      "text/plain": [
       "HBox(children=(FloatProgress(value=0.0, description='Converting  examples to features', max=1248.0, style=Prog…"
      ]
     },
     "metadata": {},
     "output_type": "display_data"
    },
    {
     "name": "stdout",
     "output_type": "stream",
     "text": [
      "\n"
     ]
    }
   ],
   "source": [
    "features = processor.convert_examples_to_features(examples)"
   ]
  },
  {
   "cell_type": "code",
   "execution_count": 14,
   "id": "a556af94-bbfd-4ece-99ad-591508b3519e",
   "metadata": {},
   "outputs": [],
   "source": [
    "ds = WOSDataset(features)\n",
    "sampler = SequentialSampler(ds)\n",
    "eval_loader = DataLoader(\n",
    "    ds,\n",
    "    batch_size=8,\n",
    "    sampler=sampler,\n",
    "    collate_fn=processor.collate_fn,\n",
    ")"
   ]
  },
  {
   "cell_type": "code",
   "execution_count": 15,
   "id": "c3c6e5d9-fdd1-49f5-9153-56b556ba6b24",
   "metadata": {},
   "outputs": [
    {
     "data": {
      "application/vnd.jupyter.widget-view+json": {
       "model_id": "164f38aca0c9459bb8f36928f9e6992a",
       "version_major": 2,
       "version_minor": 0
      },
      "text/plain": [
       "HBox(children=(FloatProgress(value=0.0, max=156.0), HTML(value='')))"
      ]
     },
     "metadata": {},
     "output_type": "display_data"
    },
    {
     "name": "stdout",
     "output_type": "stream",
     "text": [
      "\n"
     ]
    }
   ],
   "source": [
    "use_amp = False\n",
    "\n",
    "model.eval()\n",
    "predictions = {}\n",
    "pbar = tqdm(eval_loader, total=len(eval_loader), file=sys.stdout)\n",
    "\n",
    "for batch in pbar:\n",
    "    input_ids, segment_ids, input_masks, gating_ids, target_ids, guids = [\n",
    "        b.to(device) if not isinstance(b, list) else b for b in batch\n",
    "    ]\n",
    "\n",
    "    with torch.no_grad():\n",
    "        with autocast(enabled=use_amp):\n",
    "            o, g = model(input_ids, segment_ids, input_masks, 9)\n",
    "\n",
    "        _, generated_ids = o.max(-1)\n",
    "        _, gated_ids = g.max(-1)\n",
    "\n",
    "\n",
    "    for guid, gate, gen in zip(guids, gated_ids.tolist(), generated_ids.tolist()):\n",
    "        prediction = processor.recover_state(gate, gen)\n",
    "        prediction = postprocess_state(prediction)\n",
    "        predictions[guid] = prediction\n",
    "pbar.close()\n"
   ]
  },
  {
   "cell_type": "code",
   "execution_count": null,
   "id": "22ebea68-cbd5-4cfb-82ca-c1e3899633b1",
   "metadata": {},
   "outputs": [],
   "source": [
    "def "
   ]
  },
  {
   "cell_type": "code",
   "execution_count": 69,
   "id": "5a76fc3c-59b3-4c8d-8f16-c112a75e4ee7",
   "metadata": {},
   "outputs": [
    {
     "data": {
      "text/plain": [
       "(646, 602)"
      ]
     },
     "execution_count": 69,
     "metadata": {},
     "output_type": "execute_result"
    }
   ],
   "source": [
    "good = []\n",
    "bad = []\n",
    "for example in examples:\n",
    "    guid = example.guid\n",
    "\n",
    "    answer = convert_state_dict(example.label)\n",
    "    pred = convert_state_dict(predictions[guid])\n",
    "    if set(pred).issubset(set(answer)):\n",
    "        good.append(\n",
    "            AttrDict(\n",
    "                example=example,\n",
    "                prediction=predictions[guid],\n",
    "            )\n",
    "        )\n",
    "    else:\n",
    "        bad.append(\n",
    "            AttrDict(\n",
    "                example=example,\n",
    "                prediction=predictions[guid],\n",
    "            )\n",
    "        )\n",
    "    \n",
    "len(good), len(bad)"
   ]
  },
  {
   "cell_type": "code",
   "execution_count": 92,
   "id": "b21fe2e4-ab78-420e-ad13-d2cdef1c12d3",
   "metadata": {},
   "outputs": [
    {
     "data": {
      "text/plain": [
       "DSTInputExample(guid='need_guid_39', context_turns=['', ''], current_turn=['선호하시는 택시 종류가 있으신가요?', '개인택시로 찾아주세요. 도착은 00:33에 해야합니다.'], label=('택시-종류-개인', '택시-도착 시간-00:33'), before_label={})"
      ]
     },
     "execution_count": 92,
     "metadata": {},
     "output_type": "execute_result"
    }
   ],
   "source": [
    "bad[idx].example"
   ]
  },
  {
   "cell_type": "code",
   "execution_count": 97,
   "id": "6c896827-38e5-480f-851d-44072e63e9fb",
   "metadata": {},
   "outputs": [],
   "source": [
    "idx = 0"
   ]
  },
  {
   "cell_type": "code",
   "execution_count": 118,
   "id": "e6e645ad-13e4-4bd6-be96-4fd5186aa0b6",
   "metadata": {},
   "outputs": [
    {
     "name": "stdout",
     "output_type": "stream",
     "text": [
      "SYS: 그럼 코엑스 아쿠아리움은 어떨까요? 동물원으로 분류가 되고 평점도 좋은 4점입니다.\n",
      "USR: 네 동물원이 좋겠네요. 그리고 잠실 야구 경기장과 같은 공원을 찾아주세요.\n",
      " ANS: ['관광-이름-잠실 야구 경기장', '관광-종류-공원']\n",
      "PRED: ['관광-이름-코엑스 아쿠아리움', '관광-종류-공원', '관광-지역-서울 중앙']\n",
      "need_guid_35\n"
     ]
    }
   ],
   "source": [
    "print(f'SYS: {bad[idx].example.current_turn[0]}')\n",
    "print(f'USR: {bad[idx].example.current_turn[1]}')\n",
    "print(f' ANS: {sorted(bad[idx].example.label)}')\n",
    "print(f'PRED: {sorted(bad[idx].prediction)}')\n",
    "print(bad[idx].example.guid)\n",
    "idx += 1"
   ]
  },
  {
   "cell_type": "code",
   "execution_count": 99,
   "id": "bf6af83f-b389-421b-a236-1ef034215a01",
   "metadata": {},
   "outputs": [],
   "source": [
    "idx = 0"
   ]
  },
  {
   "cell_type": "code",
   "execution_count": 136,
   "id": "e841a6de-4ca2-48b8-8195-1ccb4501bfd0",
   "metadata": {},
   "outputs": [
    {
     "name": "stdout",
     "output_type": "stream",
     "text": [
      "SYS: 별마당 도서관의 영업시간은 10시부터 18시이며 가까운 지하철역은 삼성동중앙역으로 확인됩니다. 지하철역에서 관광지까지 도보로 약 4분 소요됩니다.\n",
      "USR: 그렇군요. 잘 알겠습니다. 저 그리고 서울 중앙에 위치한 가로수길도 방문해보려고 하는데요. 영업시간과 가까운 지하철역이 어떻게 되\n",
      " ANS: ['관광-이름-가로수길', '관광-지역-서울 중앙']\n",
      "PRED: ['관광-이름-가로수길']\n"
     ]
    }
   ],
   "source": [
    "print(f'SYS: {good[idx].example.current_turn[0]}')\n",
    "print(f'USR: {good[idx].example.current_turn[1]}')\n",
    "print(f' ANS: {sorted(good[idx].example.label)}')\n",
    "print(f'PRED: {sorted(good[idx].prediction)}')\n",
    "idx += 1"
   ]
  },
  {
   "cell_type": "code",
   "execution_count": 137,
   "id": "97a635d0-9e29-443a-9710-e452daf90016",
   "metadata": {},
   "outputs": [
    {
     "data": {
      "text/plain": [
       "AttrDict({'example': DSTInputExample(guid='need_guid_1', context_turns=['', ''], current_turn=['알려주신 조건으로 두 곳 다 예약 가능하십니다. ', '그럼 제이 호텔로 할게요. 비싼 가격대로는 어디가 좋을까요?'], label=('숙소-이름-제이 호텔', '숙소-가격대-비싼'), before_label={}), 'prediction': ['숙소-가격대-비싼', '숙소-이름-제이 호텔']})"
      ]
     },
     "execution_count": 137,
     "metadata": {},
     "output_type": "execute_result"
    }
   ],
   "source": [
    "good[0]"
   ]
  },
  {
   "cell_type": "code",
   "execution_count": 147,
   "id": "ceebfae7-c8f8-4e11-96a3-395518256ddc",
   "metadata": {},
   "outputs": [],
   "source": [
    "diff_good = []\n",
    "for x in good:\n",
    "    if set(x.example.label) != set(x.prediction):\n",
    "        diff_good.append(x)"
   ]
  },
  {
   "cell_type": "code",
   "execution_count": 148,
   "id": "c9fad964-7b53-4f2e-a0b9-16743b527658",
   "metadata": {},
   "outputs": [
    {
     "data": {
      "text/plain": [
       "174"
      ]
     },
     "execution_count": 148,
     "metadata": {},
     "output_type": "execute_result"
    }
   ],
   "source": [
    "len(diff_good)"
   ]
  },
  {
   "cell_type": "code",
   "execution_count": 149,
   "id": "ec2f7f82-75b7-44ce-bfb5-aff7ae6c81b3",
   "metadata": {},
   "outputs": [],
   "source": [
    "idx = 0"
   ]
  },
  {
   "cell_type": "code",
   "execution_count": 164,
   "id": "528b1394-13f4-4991-9e63-db579de5ab20",
   "metadata": {},
   "outputs": [
    {
     "name": "stdout",
     "output_type": "stream",
     "text": [
      "SYS: \n",
      "USR: 안녕하세요. 홀럭키하우스라는 이름의 비싼 가격대의 중식당을 방문하려고 하는데요.\n",
      " ANS: ['식당-가격대-비싼', '식당-이름-홀럭키하우스', '식당-종류-중식당']\n",
      "PRED: ['식당-가격대-비싼', '식당-종류-중식당']\n"
     ]
    }
   ],
   "source": [
    "print(f'SYS: {diff_good[idx].example.current_turn[0]}')\n",
    "print(f'USR: {diff_good[idx].example.current_turn[1]}')\n",
    "print(f' ANS: {sorted(diff_good[idx].example.label)}')\n",
    "print(f'PRED: {sorted(diff_good[idx].prediction)}')\n",
    "idx += 1"
   ]
  },
  {
   "cell_type": "code",
   "execution_count": null,
   "id": "ef9e590a-976d-4c5c-a149-26fe952f2249",
   "metadata": {},
   "outputs": [],
   "source": [
    "1200 -> 600 -> 174"
   ]
  }
 ],
 "metadata": {
  "kernelspec": {
   "display_name": "Python 3",
   "language": "python",
   "name": "python3"
  },
  "language_info": {
   "codemirror_mode": {
    "name": "ipython",
    "version": 3
   },
   "file_extension": ".py",
   "mimetype": "text/x-python",
   "name": "python",
   "nbconvert_exporter": "python",
   "pygments_lexer": "ipython3",
   "version": "3.7.7"
  }
 },
 "nbformat": 4,
 "nbformat_minor": 5
}
