{
 "cells": [
  {
   "cell_type": "code",
   "execution_count": 1,
   "id": "c1e62522-1d8e-496b-8cdb-63ca40ba17ec",
   "metadata": {},
   "outputs": [
    {
     "name": "stdout",
     "output_type": "stream",
     "text": [
      "/opt/ml/project/team/code\n"
     ]
    }
   ],
   "source": [
    "%cd code"
   ]
  },
  {
   "cell_type": "code",
   "execution_count": 89,
   "id": "564f8f7a-fbcf-4573-994b-25cbe38cb48b",
   "metadata": {},
   "outputs": [],
   "source": [
    "import json\n",
    "import re\n",
    "from attrdict import AttrDict\n",
    "from string import Template\n",
    "\n",
    "from collections import defaultdict\n",
    "from dataclasses import dataclass\n",
    "from typing import List, Optional, Union\n",
    "\n",
    "import numpy as np\n",
    "import pandas as pd\n",
    "import seaborn as sns\n",
    "import matplotlib.pyplot as plt\n",
    "\n",
    "from prepare import get_data\n",
    "from data_utils import load_dataset, get_examples_from_dialogues, split_slot\n",
    "\n",
    "plt.rcParams[\"font.family\"] = 'NanumGothicCoding'\n",
    "plt.style.use('dark_background')"
   ]
  },
  {
   "cell_type": "code",
   "execution_count": 3,
   "id": "38525a80-494b-4e35-b1ba-f93a7fe04a2a",
   "metadata": {},
   "outputs": [],
   "source": [
    "args = AttrDict(\n",
    "    train_file_name='train_dials.json',\n",
    "    data_dir= '/opt/ml/input/data/train_dataset',\n",
    "    ontology_root='/opt/ml/input/data/train_dataset/edit_ontology_metro.json',\n",
    "    use_convert_ont=False,\n",
    "    use_domain_slot='basic',\n",
    "    use_small_data=False,\n",
    ")"
   ]
  },
  {
   "cell_type": "code",
   "execution_count": 4,
   "id": "26473b09-857c-4014-861c-a291b5df408b",
   "metadata": {},
   "outputs": [
    {
     "name": "stdout",
     "output_type": "stream",
     "text": [
      "using train: train_dials.json\n"
     ]
    }
   ],
   "source": [
    "data, slot_meta, ontology = get_data(args)"
   ]
  },
  {
   "cell_type": "code",
   "execution_count": 11,
   "id": "25f5c617-313b-4c0c-9bd9-30acab30e73a",
   "metadata": {},
   "outputs": [
    {
     "data": {
      "application/vnd.jupyter.widget-view+json": {
       "model_id": "876158ffa24646679f54b26dc8ace218",
       "version_major": 2,
       "version_minor": 0
      },
      "text/plain": [
       "HBox(children=(FloatProgress(value=0.0, description='Getting all examples from dialogues', max=7000.0, style=P…"
      ]
     },
     "metadata": {},
     "output_type": "display_data"
    },
    {
     "name": "stdout",
     "output_type": "stream",
     "text": [
      "\n"
     ]
    }
   ],
   "source": [
    "examples = get_examples_from_dialogues(\n",
    "        data, user_first=False, dialogue_level=True, which='all'\n",
    ")"
   ]
  },
  {
   "cell_type": "code",
   "execution_count": 6,
   "id": "d99c3b9e-d570-4974-bc2e-02756a0d9198",
   "metadata": {},
   "outputs": [],
   "source": [
    "@dataclass\n",
    "class TurnFeature:\n",
    "    guid: str\n",
    "    current_turn: List[str]\n",
    "    value: str\n",
    "    \n",
    "    def __repr__(self):\n",
    "        return f'''\n",
    "{self.guid}\n",
    "VAL: {self.value}\n",
    "SYS: {self.current_turn[0]}\n",
    "USR: {self.current_turn[1]}\n",
    "'''"
   ]
  },
  {
   "cell_type": "code",
   "execution_count": 15,
   "id": "e7e7f8a7-6a86-42ee-b88f-51f6433be37c",
   "metadata": {},
   "outputs": [],
   "source": [
    "slot_dict = defaultdict(list)\n",
    "for x in slot_meta:\n",
    "    domain, slot = x.split('-')\n",
    "    slot_dict[domain].append(x)"
   ]
  },
  {
   "cell_type": "code",
   "execution_count": 22,
   "id": "cee54f92-8723-4317-a411-ac3c24e7c5f1",
   "metadata": {},
   "outputs": [
    {
     "data": {
      "text/plain": [
       "dict_keys(['관광', '숙소', '식당', '지하철', '택시'])"
      ]
     },
     "execution_count": 22,
     "metadata": {},
     "output_type": "execute_result"
    }
   ],
   "source": [
    "slot_dict.keys()"
   ]
  },
  {
   "cell_type": "code",
   "execution_count": 127,
   "id": "f3e0eeea-2587-4700-bdf9-d95074ec0a52",
   "metadata": {},
   "outputs": [],
   "source": [
    "df_dict = {domain:pd.DataFrame(data=0, index=slot_dict[domain], columns=slot_dict[domain]) for domain in slot_dict}\n",
    "for dialogs in examples:\n",
    "    for example in dialogs:\n",
    "        using = defaultdict(list)\n",
    "        for slot_value in example.label:\n",
    "            if slot_value in example.before_label:\n",
    "                continue\n",
    "            domain, slot, value = split_slot(slot_value, False)\n",
    "            using[domain].append(f'{domain}-{slot}')\n",
    "        for key, values in using.items():\n",
    "            for i in range(len(values)):\n",
    "#                 df_dict[key].loc[values[i], values[i]] += 1\n",
    "                for j in range(i+1, len(values)):\n",
    "                    df_dict[key].loc[values[i], values[j]] += 1\n",
    "                    df_dict[key].loc[values[j], values[i]] += 1"
   ]
  },
  {
   "cell_type": "code",
   "execution_count": 85,
   "id": "da68d681-bbeb-4c1c-8910-8c7a67bf335e",
   "metadata": {},
   "outputs": [
    {
     "data": {
      "text/plain": [
       "dict_keys(['관광', '숙소', '식당', '지하철', '택시'])"
      ]
     },
     "execution_count": 85,
     "metadata": {},
     "output_type": "execute_result"
    }
   ],
   "source": [
    "df_dict.keys()"
   ]
  },
  {
   "cell_type": "code",
   "execution_count": 143,
   "id": "35ff1e6e-b823-4f33-8ce7-2b44debb80ee",
   "metadata": {},
   "outputs": [],
   "source": [
    "domain = '지하철'\n",
    "div = (df_dict[domain].to_numpy().sum() - df_dict[domain].to_numpy().trace()) // 2\n",
    "a = df_dict[domain] / div"
   ]
  },
  {
   "cell_type": "code",
   "execution_count": 144,
   "id": "099b5031-d49b-404f-a038-4acd3414922d",
   "metadata": {},
   "outputs": [
    {
     "data": {
      "image/png": "[encoded data removed]",
      "text/plain": [
       "<Figure size 864x864 with 2 Axes>"
      ]
     },
     "metadata": {},
     "output_type": "display_data"
    }
   ],
   "source": [
    "fig = plt.figure(figsize=(12, 12))\n",
    "sns.set_context(\"paper\", rc={\"font.size\":15,\"axes.titlesize\":20,\"axes.labelsize\":80})\n",
    "sns.heatmap(a, annot=True, fmt='f')\n",
    "plt.yticks(rotation=0)\n",
    "plt.show()"
   ]
  },
  {
   "cell_type": "code",
   "execution_count": 124,
   "id": "0f6a924d-b480-4799-a570-09755006a42f",
   "metadata": {},
   "outputs": [
    {
     "data": {
      "text/html": [
       "<div>\n",
       "<style scoped>\n",
       "    .dataframe tbody tr th:only-of-type {\n",
       "        vertical-align: middle;\n",
       "    }\n",
       "\n",
       "    .dataframe tbody tr th {\n",
       "        vertical-align: top;\n",
       "    }\n",
       "\n",
       "    .dataframe thead th {\n",
       "        text-align: right;\n",
       "    }\n",
       "</style>\n",
       "<table border=\"1\" class=\"dataframe\">\n",
       "  <thead>\n",
       "    <tr style=\"text-align: right;\">\n",
       "      <th></th>\n",
       "      <th>택시-도착 시간</th>\n",
       "      <th>택시-도착지</th>\n",
       "      <th>택시-종류</th>\n",
       "      <th>택시-출발 시간</th>\n",
       "      <th>택시-출발지</th>\n",
       "    </tr>\n",
       "  </thead>\n",
       "  <tbody>\n",
       "    <tr>\n",
       "      <th>택시-도착 시간</th>\n",
       "      <td>False</td>\n",
       "      <td>True</td>\n",
       "      <td>True</td>\n",
       "      <td>True</td>\n",
       "      <td>True</td>\n",
       "    </tr>\n",
       "    <tr>\n",
       "      <th>택시-도착지</th>\n",
       "      <td>True</td>\n",
       "      <td>False</td>\n",
       "      <td>False</td>\n",
       "      <td>False</td>\n",
       "      <td>False</td>\n",
       "    </tr>\n",
       "    <tr>\n",
       "      <th>택시-종류</th>\n",
       "      <td>True</td>\n",
       "      <td>False</td>\n",
       "      <td>False</td>\n",
       "      <td>False</td>\n",
       "      <td>False</td>\n",
       "    </tr>\n",
       "    <tr>\n",
       "      <th>택시-출발 시간</th>\n",
       "      <td>True</td>\n",
       "      <td>False</td>\n",
       "      <td>False</td>\n",
       "      <td>False</td>\n",
       "      <td>False</td>\n",
       "    </tr>\n",
       "    <tr>\n",
       "      <th>택시-출발지</th>\n",
       "      <td>True</td>\n",
       "      <td>False</td>\n",
       "      <td>False</td>\n",
       "      <td>False</td>\n",
       "      <td>False</td>\n",
       "    </tr>\n",
       "  </tbody>\n",
       "</table>\n",
       "</div>"
      ],
      "text/plain": [
       "          택시-도착 시간  택시-도착지  택시-종류  택시-출발 시간  택시-출발지\n",
       "택시-도착 시간     False    True   True      True    True\n",
       "택시-도착지        True   False  False     False   False\n",
       "택시-종류         True   False  False     False   False\n",
       "택시-출발 시간      True   False  False     False   False\n",
       "택시-출발지        True   False  False     False   False"
      ]
     },
     "execution_count": 124,
     "metadata": {},
     "output_type": "execute_result"
    }
   ],
   "source": [
    "(a <= 0.08)"
   ]
  },
  {
   "cell_type": "code",
   "execution_count": 125,
   "id": "d5851938-97d3-4f61-8fca-bbc152bfc516",
   "metadata": {},
   "outputs": [
    {
     "ename": "AttributeError",
     "evalue": "module 'pandas' has no attribute 'where'",
     "output_type": "error",
     "traceback": [
      "\u001b[0;31m---------------------------------------------------------------------------\u001b[0m",
      "\u001b[0;31mAttributeError\u001b[0m                            Traceback (most recent call last)",
      "\u001b[0;32m<ipython-input-125-e1b8aa74d97d>\u001b[0m in \u001b[0;36m<module>\u001b[0;34m\u001b[0m\n\u001b[0;32m----> 1\u001b[0;31m \u001b[0mpd\u001b[0m\u001b[0;34m.\u001b[0m\u001b[0mwhere\u001b[0m\u001b[0;34m\u001b[0m\u001b[0;34m\u001b[0m\u001b[0m\n\u001b[0m",
      "\u001b[0;32m/opt/conda/lib/python3.7/site-packages/pandas/__init__.py\u001b[0m in \u001b[0;36m__getattr__\u001b[0;34m(name)\u001b[0m\n\u001b[1;32m    242\u001b[0m         \u001b[0;32mreturn\u001b[0m \u001b[0m_SparseArray\u001b[0m\u001b[0;34m\u001b[0m\u001b[0;34m\u001b[0m\u001b[0m\n\u001b[1;32m    243\u001b[0m \u001b[0;34m\u001b[0m\u001b[0m\n\u001b[0;32m--> 244\u001b[0;31m     \u001b[0;32mraise\u001b[0m \u001b[0mAttributeError\u001b[0m\u001b[0;34m(\u001b[0m\u001b[0;34mf\"module 'pandas' has no attribute '{name}'\"\u001b[0m\u001b[0;34m)\u001b[0m\u001b[0;34m\u001b[0m\u001b[0;34m\u001b[0m\u001b[0m\n\u001b[0m\u001b[1;32m    245\u001b[0m \u001b[0;34m\u001b[0m\u001b[0m\n\u001b[1;32m    246\u001b[0m \u001b[0;34m\u001b[0m\u001b[0m\n",
      "\u001b[0;31mAttributeError\u001b[0m: module 'pandas' has no attribute 'where'"
     ]
    }
   ],
   "source": [
    "pd.where"
   ]
  },
  {
   "cell_type": "code",
   "execution_count": null,
   "id": "2d78eaa6-b6b4-4cb4-b008-9e88203f4d8e",
   "metadata": {},
   "outputs": [],
   "source": []
  }
 ],
 "metadata": {
  "kernelspec": {
   "display_name": "Python 3",
   "language": "python",
   "name": "python3"
  },
  "language_info": {
   "codemirror_mode": {
    "name": "ipython",
    "version": 3
   },
   "file_extension": ".py",
   "mimetype": "text/x-python",
   "name": "python",
   "nbconvert_exporter": "python",
   "pygments_lexer": "ipython3",
   "version": "3.7.7"
  }
 },
 "nbformat": 4,
 "nbformat_minor": 5
}
